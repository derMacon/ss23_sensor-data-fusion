{
 "cells": [
  {
   "cell_type": "markdown",
   "metadata": {},
   "source": [
    "# Sensor Data Fusion \n",
    "Lecturer: Prof. Baum \\\n",
    "Tutor: Kolja Thormann\\\n",
    "Semester: Winter 21/22\n",
    "\n",
    "## Homework 6\n",
    "\n",
    "Consider again the setup of the Silly Estimator exercise with $x \\sim \\mathcal{N}(1,1)$ and $y = x + e$ with $e \\sim \\mathcal{N}(0,1)$."
   ]
  },
  {
   "cell_type": "markdown",
   "metadata": {},
   "source": [
    "---\n",
    "The following tasks will have missing sections marked that you should fill out. \n",
    "\n",
    "Missing code parts are marked by\n",
    "```\n",
    "# ... code code code\n",
    "=== YOUR CODE HERE ===\n",
    "\n",
    "=== END OF YOUR CODE ===\n",
    "# ... code code code\n",
    "```\n",
    "If you are asked to implement a function, make sure to check what variable will be returned by the function and to fill it accordingly. Do not change code outside of the indicated sections.\n",
    "\n",
    "Furthermore, some questions require theoretical answers instead of python code.\n",
    "\n",
    "Such questions will have a field marked like this: \n",
    "\n",
    "=== YOUR ANSWER HERE === "
   ]
  },
  {
   "cell_type": "markdown",
   "metadata": {},
   "source": [
    "---\n",
    "### a)\n",
    "\n",
    "Write a function which calculates a possible value for $x$ based on its distribution and then generates a measurement from the value using the measurement noise."
   ]
  },
  {
   "cell_type": "code",
   "execution_count": 28,
   "metadata": {},
   "outputs": [],
   "source": [
    "import numpy as np\n",
    "\n",
    "def draw_sample(mean_x=1, var_x=1, mean_e=0, var_e=1):\n",
    "    \"\"\"\n",
    "    Function that draws a sample measurement.\n",
    "    The parameters for this function consist of the parameters for the normal distribution of x and the normal distribution \n",
    "    of the additive noise.\n",
    "    \n",
    "    The function should return a single measurement (\"y\") and the true drawn value from the distribution (\"x\"). \n",
    "    :param mean_x: Mean of the gaussian distribution for x\n",
    "    :param var_x: Variance of the gaussian distribution for x\n",
    "    :param mean_e: Mean of the gaussian distriubtion for e\n",
    "    :param var_e: Variance of the gaussian distribution for e:\n",
    "    :return: (y,x) - a single measurement y with its true (original) value x\n",
    "    \"\"\"\n",
    "    \n",
    "    # === YOUR CODE HERE ===\n",
    "    \n",
    "    x = np.random.normal(mean_x, np.sqrt(var_x))\n",
    "    y = x + np.random.normal(mean_e, np.sqrt(var_e))\n",
    "    \n",
    "    # === END OF YOUR CODE ===\n",
    "    \n",
    "    return y, x"
   ]
  },
  {
   "cell_type": "markdown",
   "metadata": {},
   "source": [
    "---\n",
    "### b)\n",
    "\n",
    "Consider the natural estimator $\\theta_n(y) = y$. Calculate the empirical mean square error of 1000 runs using this estimator and compare it with the analystic solution."
   ]
  },
  {
   "cell_type": "code",
   "execution_count": 29,
   "metadata": {},
   "outputs": [],
   "source": [
    "def theta_n(y):\n",
    "    \"\"\"\n",
    "    Function that represents the natural estimator.\n",
    "    \n",
    "    This function should return a single value, which represents the result of the estimator.\n",
    "    :param y: The measurement y\n",
    "    :return: The estimate corresponding to the measurement given as input\n",
    "    \"\"\"\n",
    "    # === YOUR CODE HERE ===\n",
    "\n",
    "    result = y\n",
    "    \n",
    "    # === END OF YOUR CODE ===\n",
    "    \n",
    "    return result"
   ]
  },
  {
   "cell_type": "code",
   "execution_count": 30,
   "metadata": {},
   "outputs": [],
   "source": [
    "def empirical_mean_square_error(estimator, n_runs=1000):\n",
    "    \"\"\"\n",
    "    Function that calculates the empirical MSE for a given estimator and a set number of runs, using the draw_sample function\n",
    "    defined above.\n",
    "    \n",
    "    The function should return a single value, which is the MSE over all runs for the given estimator.\n",
    "    :param estimator: A function that, given a single measurement, returns an estimated true value\n",
    "    :param n_runs: How many runs to take the MSE over\n",
    "    :return: MSE, the mean squared error over all runs\n",
    "    \"\"\"\n",
    "    # === YOUR CODE HERE ===\n",
    "    avg = []\n",
    "    for i in range(1000):\n",
    "        y, x = draw_sample()\n",
    "        x_estimate = estimator(y)\n",
    "        avg.append((x - x_estimate)**2)\n",
    "    \n",
    "    MSE = np.average(avg)\n",
    "    \n",
    "    # === END OF YOUR CODE ===\n",
    "    \n",
    "    return MSE"
   ]
  },
  {
   "cell_type": "code",
   "execution_count": 31,
   "metadata": {
    "scrolled": true
   },
   "outputs": [
    {
     "name": "stdout",
     "output_type": "stream",
     "text": [
      "Empirical MSE for the natural estimator: \n",
      "0.9862950711325833\n"
     ]
    }
   ],
   "source": [
    "# Calculate the MSE for the natural estimator\n",
    "empirical_MSE_natural = empirical_mean_square_error(estimator=theta_n, n_runs=10000)\n",
    "\n",
    "print(\"Empirical MSE for the natural estimator: \")\n",
    "print(empirical_MSE_natural)"
   ]
  },
  {
   "cell_type": "markdown",
   "metadata": {},
   "source": [
    "Compare the result of the empirical testing with the analytic solution:\n",
    "\n",
    "=== YOUR ANSWER HERE ===\n"
   ]
  },
  {
   "cell_type": "markdown",
   "metadata": {},
   "source": [
    "---\n",
    "__c)__ Repeat the process with the sillty estimator $\\theta_s(y) = 0$"
   ]
  },
  {
   "cell_type": "code",
   "execution_count": 32,
   "metadata": {},
   "outputs": [],
   "source": [
    "def theta_s(y):\n",
    "    \"\"\"\n",
    "    Function that represents the silly estimator.\n",
    "    \n",
    "    This function should return a single value, which represents the result of the estimator.\n",
    "    :param y: The measurement y\n",
    "    :return: The estimate corresponding to the measurement given as input\n",
    "    \"\"\"\n",
    "    # === YOUR CODE HERE ===\n",
    "    \n",
    "    result = 0\n",
    "    \n",
    "    # === END OF YOUR CODE ===\n",
    "    \n",
    "    return result"
   ]
  },
  {
   "cell_type": "code",
   "execution_count": 33,
   "metadata": {},
   "outputs": [
    {
     "name": "stdout",
     "output_type": "stream",
     "text": [
      "Empirical MSE for the silly estimator: \n",
      "2.002989318228207\n"
     ]
    }
   ],
   "source": [
    "# Calculate the MSE for the silly estimator using the same function as before\n",
    "empirical_MSE_silly = empirical_mean_square_error(estimator=theta_s, n_runs=1000)\n",
    "\n",
    "print(\"Empirical MSE for the silly estimator: \")\n",
    "print(empirical_MSE_silly)"
   ]
  },
  {
   "cell_type": "markdown",
   "metadata": {},
   "source": [
    "Compare the result of the empirical testing with the analytic solution, this time for $\\theta_s$:\n",
    "\n",
    "=== YOUR ANSWER HERE ===\n"
   ]
  }
 ],
 "metadata": {
  "kernelspec": {
   "display_name": "Python 3",
   "language": "python",
   "name": "python3"
  },
  "language_info": {
   "codemirror_mode": {
    "name": "ipython",
    "version": 3
   },
   "file_extension": ".py",
   "mimetype": "text/x-python",
   "name": "python",
   "nbconvert_exporter": "python",
   "pygments_lexer": "ipython3",
   "version": "3.11.4"
  }
 },
 "nbformat": 4,
 "nbformat_minor": 4
}
