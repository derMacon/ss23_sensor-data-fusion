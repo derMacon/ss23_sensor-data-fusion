{
 "cells": [
  {
   "cell_type": "markdown",
   "metadata": {},
   "source": [
    "# Sensor Data Fusion\n",
    "Lecturer: Prof. Baum \\\n",
    "Tutor: Kolja Thormann \\\n",
    "Semester: Winter 21/22\n",
    "## Homework 11\n",
    "$\\newcommand\\vect[1]{\\begin{bmatrix}#1\\end{bmatrix}}$\n",
    "$\\newcommand\\rvec[1]{\\textbf{#1}}$\n",
    "Assume the setting from the lecture. We have three classes $X=\\{x_1,x_2,x_3\\}$ and three possible measurements $Z=\\{z_1,z_2,z_3\\}$ with measurement sets\n",
    "\n",
    "$\\Sigma_{x_1}=\\{z_1\\}$\n",
    "\n",
    "$\\Sigma_{x_2}=\\{z_1,z_2\\}$\n",
    "\n",
    "$\\Sigma_{x_3}=\\{z_1,z_2,z_3\\}$\n"
   ]
  },
  {
   "cell_type": "markdown",
   "metadata": {},
   "source": [
    "---\n",
    "The following tasks will have missing sections marked that you should fill out. \n",
    "\n",
    "Missing code parts are marked by\n",
    "```\n",
    "# ... code code code\n",
    "=== YOUR CODE HERE ===\n",
    "\n",
    "=== END OF YOUR CODE ===\n",
    "# ... code code code\n",
    "```\n",
    "If you are asked to implement a function, make sure to check what variable will be returned by the function and to fill it accordingly. Do not change code outside of the indicated sections.\n",
    "\n",
    "Furthermore, some questions require theoretical answers instead of python code.\n",
    "\n",
    "Such questions will have a field marked like this: \n",
    "\n",
    "=== YOUR ANSWER HERE === "
   ]
  },
  {
   "cell_type": "code",
   "execution_count": 1,
   "metadata": {},
   "outputs": [],
   "source": [
    "# import statements\n",
    "import numpy as np\n",
    "import matplotlib.pyplot as plt\n",
    "from numpy.linalg import norm"
   ]
  },
  {
   "cell_type": "markdown",
   "metadata": {},
   "source": [
    "---\n",
    "### a) \n",
    "Implement a function to recursively track the class probability given the standard approach."
   ]
  },
  {
   "cell_type": "code",
   "execution_count": 2,
   "metadata": {},
   "outputs": [],
   "source": [
    "def update(p_x, z, l_mat):\n",
    "    \"\"\"\n",
    "    Implements the motion model.\n",
    "    \n",
    "    :param p_x: array of prior class probabilities\n",
    "    :param z: ID of the measurement in the confusion matrix\n",
    "    :param l_mat: confusion matrix containing the likelihoods\n",
    "    :return: p_x, the array of posterior class probabilities\n",
    "    \"\"\"\n",
    "    \n",
    "    # === YOUR CODE HERE ===\n",
    "    p_x = l_mat[z] * p_x\n",
    "    p_x /= sum(p_x)\n",
    "\n",
    "    # === END OF YOUR CODE ===\n",
    "    \n",
    "    return p_x"
   ]
  },
  {
   "cell_type": "markdown",
   "metadata": {},
   "source": [
    "---\n",
    "### b)\n",
    "Use the function from a) to track the probabilities over $20$ time steps. Let $z^{(k)}$ be the measurement at time step $k$. Assume you receive measurements $z^{(7)}=z_2$, $z^{(13)}=z_3$, and $z^{(k)}=z_1$ for $k\\in\\{1,\\dots,20\\}\\setminus\\{7,13\\}$. Plot the development of the class probabilities."
   ]
  },
  {
   "cell_type": "code",
   "execution_count": 3,
   "metadata": {},
   "outputs": [],
   "source": [
    "p_x = np.ones((21, 3)) / 3.0\n",
    "m_set = np.zeros(20, int)\n",
    "m_set[6] = 1\n",
    "m_set[12] = 2"
   ]
  },
  {
   "cell_type": "code",
   "execution_count": 4,
   "metadata": {},
   "outputs": [
    {
     "ename": "IndexError",
     "evalue": "index 3 is out of bounds for axis 0 with size 3",
     "output_type": "error",
     "traceback": [
      "\u001b[0;31m---------------------------------------------------------------------------\u001b[0m",
      "\u001b[0;31mIndexError\u001b[0m                                Traceback (most recent call last)",
      "Cell \u001b[0;32mIn[4], line 10\u001b[0m\n\u001b[1;32m      3\u001b[0m l_mat \u001b[39m=\u001b[39m np\u001b[39m.\u001b[39marray([\n\u001b[1;32m      4\u001b[0m     [\u001b[39m1\u001b[39m, \u001b[39m1\u001b[39m\u001b[39m/\u001b[39m\u001b[39m2\u001b[39m, \u001b[39m1\u001b[39m\u001b[39m/\u001b[39m\u001b[39m3\u001b[39m],\n\u001b[1;32m      5\u001b[0m     [\u001b[39m0\u001b[39m, \u001b[39m1\u001b[39m\u001b[39m/\u001b[39m\u001b[39m2\u001b[39m, \u001b[39m1\u001b[39m\u001b[39m/\u001b[39m\u001b[39m3\u001b[39m],\n\u001b[1;32m      6\u001b[0m     [\u001b[39m0\u001b[39m, \u001b[39m0\u001b[39m, \u001b[39m1\u001b[39m\u001b[39m/\u001b[39m\u001b[39m3\u001b[39m],\n\u001b[1;32m      7\u001b[0m ])\n\u001b[1;32m      9\u001b[0m \u001b[39mfor\u001b[39;00m i \u001b[39min\u001b[39;00m \u001b[39mrange\u001b[39m(\u001b[39m20\u001b[39m):\n\u001b[0;32m---> 10\u001b[0m     p_x[i \u001b[39m+\u001b[39m \u001b[39m1\u001b[39m] \u001b[39m=\u001b[39m update(p_x[i], i, l_mat)\n\u001b[1;32m     13\u001b[0m \u001b[39m# === END OF YOUR CODE ===\u001b[39;00m\n\u001b[1;32m     15\u001b[0m fig, ax \u001b[39m=\u001b[39m plt\u001b[39m.\u001b[39msubplots(figsize\u001b[39m=\u001b[39m(\u001b[39m10\u001b[39m, \u001b[39m10\u001b[39m))\n",
      "Cell \u001b[0;32mIn[2], line 12\u001b[0m, in \u001b[0;36mupdate\u001b[0;34m(p_x, z, l_mat)\u001b[0m\n\u001b[1;32m      2\u001b[0m \u001b[39m\u001b[39m\u001b[39m\"\"\"\u001b[39;00m\n\u001b[1;32m      3\u001b[0m \u001b[39mImplements the motion model.\u001b[39;00m\n\u001b[1;32m      4\u001b[0m \u001b[39m\u001b[39;00m\n\u001b[0;32m   (...)\u001b[0m\n\u001b[1;32m      8\u001b[0m \u001b[39m:return: p_x, the array of posterior class probabilities\u001b[39;00m\n\u001b[1;32m      9\u001b[0m \u001b[39m\"\"\"\u001b[39;00m\n\u001b[1;32m     11\u001b[0m \u001b[39m# === YOUR CODE HERE ===\u001b[39;00m\n\u001b[0;32m---> 12\u001b[0m p_x \u001b[39m=\u001b[39m l_mat[z] \u001b[39m*\u001b[39m p_x\n\u001b[1;32m     13\u001b[0m p_x \u001b[39m/\u001b[39m\u001b[39m=\u001b[39m \u001b[39msum\u001b[39m(p_x)\n\u001b[1;32m     15\u001b[0m \u001b[39m# === END OF YOUR CODE ===\u001b[39;00m\n",
      "\u001b[0;31mIndexError\u001b[0m: index 3 is out of bounds for axis 0 with size 3"
     ]
    }
   ],
   "source": [
    "# === YOUR CODE HERE ===\n",
    "\n",
    "l_mat = np.array([\n",
    "    [1, 1/2, 1/3],\n",
    "    [0, 1/2, 1/3],\n",
    "    [0, 0, 1/3],\n",
    "])\n",
    "\n",
    "for i in range(20):\n",
    "    p_x[i + 1] = update(p_x[i], i, l_mat)\n",
    "    \n",
    "\n",
    "# === END OF YOUR CODE ===\n",
    "\n",
    "fig, ax = plt.subplots(figsize=(10, 10))\n",
    "ax.plot(np.arange(0, 21), p_x[:, 0], \"r\", label=\"Class 1\")\n",
    "ax.plot(np.arange(0, 21), p_x[:, 1], \"b-o\", label=\"Class 2\")\n",
    "ax.plot(np.arange(0, 21), p_x[:, 2], \"g--\", label=\"Class 3\")\n",
    "plt.axis([0, 20, 0, 1.1])\n",
    "ax.set_xticks(np.arange(0,21))\n",
    "plt.title(\"Class probabilities\")\n",
    "plt.legend()\n",
    "plt.show()"
   ]
  },
  {
   "cell_type": "markdown",
   "metadata": {},
   "source": [
    "---\n",
    "### c)\n",
    "Now implement a function to recursively track the class probabilities based on the random set approach, defining and using a generalized likelihood function. Use the same measurements as in b) to track the class probabilities. Visualize the results."
   ]
  },
  {
   "cell_type": "code",
   "execution_count": null,
   "metadata": {},
   "outputs": [],
   "source": [
    "# === YOUR CODE HERE ===\n",
    "    \n",
    "\n",
    "# === END OF YOUR CODE ===\n",
    "\n",
    "fig, ax = plt.subplots(figsize=(10, 10))\n",
    "ax.plot(np.arange(0, 21), p_x[:, 0], \"r\", label=\"Class 1\")\n",
    "ax.plot(np.arange(0, 21), p_x[:, 1], \"b-o\", label=\"Class 2\")\n",
    "ax.plot(np.arange(0, 21), p_x[:, 2], \"g--\", label=\"Class 3\")\n",
    "plt.axis([0, 20, 0, 1.1])\n",
    "ax.set_xticks(np.arange(0,21))\n",
    "plt.title(\"Class probabilities\")\n",
    "plt.legend()\n",
    "plt.show()"
   ]
  },
  {
   "cell_type": "code",
   "execution_count": null,
   "metadata": {},
   "outputs": [],
   "source": []
  }
 ],
 "metadata": {
  "kernelspec": {
   "display_name": "Python 3 (ipykernel)",
   "language": "python",
   "name": "python3"
  },
  "language_info": {
   "codemirror_mode": {
    "name": "ipython",
    "version": 3
   },
   "file_extension": ".py",
   "mimetype": "text/x-python",
   "name": "python",
   "nbconvert_exporter": "python",
   "pygments_lexer": "ipython3",
   "version": "3.11.4"
  }
 },
 "nbformat": 4,
 "nbformat_minor": 4
}
