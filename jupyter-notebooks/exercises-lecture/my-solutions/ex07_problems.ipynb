{
 "cells": [
  {
   "cell_type": "markdown",
   "metadata": {},
   "source": [
    "# Sensor Data Fusion\n",
    "Lecturer: Prof. Baum \\\n",
    "Tutor: Kolja Thormann \\\n",
    "Semester: Winter 21/22\n",
    "## Homework 6\n",
    "\n",
    "Assume a robot in 2D-space. Its position is modeled as a Gaussian random variable. The prior has $\\hat{\\textbf{x}}_0=\\begin{bmatrix}0 & 0\\end{bmatrix}^\\text{T}$ and\n",
    "$$\n",
    "\\textbf{C}_0=\\begin{bmatrix}1 & 0\\\\0 & 1\\end{bmatrix}\\enspace\n",
    "$$"
   ]
  },
  {
   "cell_type": "markdown",
   "metadata": {},
   "source": [
    "---\n",
    "The following tasks will have missing sections marked that you should fill out. \n",
    "\n",
    "Missing code parts are marked by\n",
    "```\n",
    "# ... code code code\n",
    "=== YOUR CODE HERE ===\n",
    "\n",
    "=== END OF YOUR CODE ===\n",
    "# ... code code code\n",
    "```\n",
    "If you are asked to implement a function, make sure to check what variable will be returned by the function and to fill it accordingly. Do not change code outside of the indicated sections.\n",
    "\n",
    "Furthermore, some questions require theoretical answers instead of python code.\n",
    "\n",
    "Such questions will have a field marked like this: \n",
    "\n",
    "=== YOUR ANSWER HERE === "
   ]
  },
  {
   "cell_type": "code",
   "execution_count": 128,
   "metadata": {},
   "outputs": [],
   "source": [
    "# import statements\n",
    "import numpy as np\n",
    "import matplotlib.pyplot as plt\n",
    "import math\n",
    "from numpy.linalg import inv"
   ]
  },
  {
   "cell_type": "markdown",
   "metadata": {},
   "source": [
    "---\n",
    "### a)\n",
    "A sensor measures the robot's true position. Formulate and implement a measurement equation assuming independent zero-mean Gaussian noise with\n",
    "$$\n",
    "\\textbf{R}=\\begin{bmatrix}0.2 & 0\\\\0 & 0.2\\end{bmatrix}\\enspace.\n",
    "$$"
   ]
  },
  {
   "cell_type": "code",
   "execution_count": 129,
   "metadata": {},
   "outputs": [],
   "source": [
    "# def. of variables\n",
    "t = 1\n",
    "num_m = 5\n",
    "\n",
    "x_hat_prior = np.array([0, 0])\n",
    "x_cov_prior = np.array([[1, 0], [0, 1]])\n",
    "\n",
    "R = np.array([[0.2, 0], [0, 0.2]])"
   ]
  },
  {
   "cell_type": "code",
   "execution_count": 130,
   "metadata": {},
   "outputs": [],
   "source": [
    "def measurement_model(x, R):\n",
    "    \"\"\"\n",
    "    Function that takes a measurement of x based on zero-mean Guassian noise with R according to parameters.\n",
    "    :param x: true location\n",
    "    :param R: noise\n",
    "    :return: y, the resulting measurement\n",
    "    \"\"\"\n",
    "    \n",
    "    # === YOUR CODE HERE ===\n",
    "\n",
    "    e = np.random.multivariate_normal([0, 0], R)\n",
    "    y = x + e\n",
    "    \n",
    "    # === END OF YOUR CODE ===\n",
    "    \n",
    "    return y"
   ]
  },
  {
   "cell_type": "markdown",
   "metadata": {},
   "source": [
    "---\n",
    "### b) \n",
    "Implement a function which samples a true position of $\\textbf{x}$ from the prior and then generates a measurement from the true position using the function from a)."
   ]
  },
  {
   "cell_type": "code",
   "execution_count": 131,
   "metadata": {},
   "outputs": [],
   "source": [
    "def draw_sample(x_hat, x_cov, R):\n",
    "    \"\"\"\n",
    "    Samples a true position of x from the prior and generates a measurement from the true position\n",
    "    :param x_hat: x_hat of prior\n",
    "    :param x_cov: cov of prior\n",
    "    :param R: measurement noise parameter\n",
    "    :return: (x,y) the tuple containing the sample and the measurement\n",
    "    \"\"\"\n",
    "    \n",
    "    # === YOUR CODE HERE ===\n",
    "    \n",
    "    x = np.random.multivariate_normal(x_hat, x_cov)\n",
    "    y = measurement_model(x, R)\n",
    "    \n",
    "    # === END OF YOUR CODE ===\n",
    "    \n",
    "    return x, y "
   ]
  },
  {
   "cell_type": "markdown",
   "metadata": {},
   "source": [
    "---\n",
    "### c)\n",
    "Implement the Kalman update formula to calculate the posterior distribution."
   ]
  },
  {
   "cell_type": "code",
   "execution_count": 132,
   "metadata": {},
   "outputs": [],
   "source": [
    "def update(x, x_cov, y, R):\n",
    "    \"\"\"\n",
    "    Function that implements the Kalman update formula.\n",
    "    :param x: current x position\n",
    "    :param x_cov: current cov. of x\n",
    "    :param y: measurement\n",
    "    :param R: measurement noise\n",
    "    :return: (x_new, x_cov_new) the new values for the position and its covariance\n",
    "    \"\"\"\n",
    "    \n",
    "    # === YOUR CODE HERE ===\n",
    "    \n",
    "    K = x_cov @ inv(x_cov + R)\n",
    "    x_new = x + K @ (y - x)\n",
    "    x_cov_new = x_cov - K @ x_cov\n",
    "    \n",
    "    # === END OF YOUR CODE ===\n",
    "    \n",
    "    return x_new, x_cov_new"
   ]
  },
  {
   "cell_type": "markdown",
   "metadata": {},
   "source": [
    "---\n",
    "### d) \n",
    "Now, assume the sensor will provide 5 measurements in a row. Use the Kalman filter update formulas to update the robot's state recursively."
   ]
  },
  {
   "cell_type": "markdown",
   "metadata": {},
   "source": [
    "Please implement a simple simulation that will draw `num_m` measurements $y$ in a row and apply the update function to each $y$.\n",
    "\n",
    "Visualize the measurements and the current `x_hat` after each step."
   ]
  },
  {
   "cell_type": "code",
   "execution_count": 133,
   "metadata": {},
   "outputs": [
    {
     "name": "stdout",
     "output_type": "stream",
     "text": [
      "distance to real x:  0.8957037844773786\n",
      "distance to real x:  0.8712592555432747\n",
      "distance to real x:  0.8629170700175713\n",
      "distance to real x:  0.8587343572127663\n",
      "distance to real x:  0.8562253933169712\n"
     ]
    },
    {
     "name": "stderr",
     "output_type": "stream",
     "text": [
      "/tmp/ipykernel_17089/2754365853.py:22: MatplotlibDeprecationWarning: Passing the angle parameter of __init__() positionally is deprecated since Matplotlib 3.6; the parameter will become keyword-only two minor releases later.\n",
      "  ell = Ellipse(mean, 2.0*np.sqrt(eig_vals[0]), 2.0*np.sqrt(eig_vals[1]), np.rad2deg(psi), fill=False, color=color)\n"
     ]
    },
    {
     "data": {
      "image/png": "[encoded data removed]",
      "text/plain": [
       "<Figure size 640x480 with 1 Axes>"
      ]
     },
     "metadata": {},
     "output_type": "display_data"
    }
   ],
   "source": [
    "# set x_hat and x_cov to the prior values\n",
    "x_hat = x_hat_prior\n",
    "x_cov = x_cov_prior\n",
    "\n",
    "# === YOUR CODE HERE ===\n",
    "\n",
    "from matplotlib.patches import Ellipse\n",
    "def draw_covariance(mean, cov, ax, color):\n",
    "    \"\"\"\n",
    "    Function that draws a covariance matrix as an ellipse.\n",
    "    \n",
    "    :param mean:  Center of the ellipse\n",
    "    :param cov:   Covariance matrix\n",
    "    :param ax:    Axis on which to plot\n",
    "    :param color: Color in which to plot the ellipse\n",
    "    \"\"\"\n",
    "    \n",
    "    # === YOUR CODE HERE ===\n",
    "\n",
    "    eig_vals, eig_vecs = np.linalg.eig(cov)\n",
    "    psi = np.arctan2(eig_vecs[1, 0], eig_vecs[0, 0])\n",
    "    ell = Ellipse(mean, 2.0*np.sqrt(eig_vals[0]), 2.0*np.sqrt(eig_vals[1]), np.rad2deg(psi), fill=False, color=color)\n",
    "    ax.add_artist(ell)\n",
    "\n",
    "x, y = draw_sample(x_hat, x_cov, R)\n",
    "# plt.xlim(-10, 10)\n",
    "# plt.ylim(-10, 10)\n",
    "\n",
    "fig, ax = plt.subplots()\n",
    "b = 1\n",
    "ax.set_xlim(-b, b)\n",
    "ax.set_ylim(-b, b)\n",
    "\n",
    "for i in range(num_m):\n",
    "    x_hat, x_cov = update(x_hat, x_cov, y, R)\n",
    "    print('distance to real x: ', np.linalg.norm(x - x_hat))\n",
    "    draw_covariance(x_hat, x_cov, ax, 'blue')\n",
    "    ax.scatter(x_hat[0], x_hat[1])\n",
    "    ax.scatter(x[0], x[1])\n",
    "    # plt.show()\n",
    "\n",
    "\n",
    "# === END OF YOUR CODE ==="
   ]
  },
  {
   "cell_type": "markdown",
   "metadata": {},
   "source": [
    "---\n",
    "### e)\n",
    "Visualize the robot's covariance matrix as an ellipse and observe how it changes with each update."
   ]
  },
  {
   "cell_type": "code",
   "execution_count": 134,
   "metadata": {},
   "outputs": [
    {
     "data": {
      "image/png": "[encoded data removed]",
      "text/plain": [
       "<Figure size 640x480 with 1 Axes>"
      ]
     },
     "metadata": {},
     "output_type": "display_data"
    }
   ],
   "source": [
    "def visualize_covariance(C, m, **kwargs):\n",
    "    \"\"\"\n",
    "    Adds a visualization of a covariance matrix as an ellipse to the current matplotlib plot.\n",
    "    :param C: Covariance matrix\n",
    "    :param m: Mean\n",
    "    :param color: color to draw in (for matplotlib)\n",
    "    \"\"\"\n",
    "    # ensure everything is numpy\n",
    "    C = np.array(C)\n",
    "    m = np.array(m)\n",
    "    \n",
    "    # === YOUR CODE HERE ===\n",
    "    \n",
    "    \n",
    "    # === END OF YOUR CODE ===\n",
    "    \n",
    "    return  # no return value\n",
    "\n",
    "# test the above function with a very simple example\n",
    "fig, ax = plt.subplots()\n",
    "\n",
    "visualize_covariance([[1, 0],[0, 1]], [0, 0], color='b')\n",
    "visualize_covariance([[2, 0],[0, 0.5]], [3, 0], color='g')\n",
    "visualize_covariance([[0.5, 0],[0, 2]], [3, 0], color='r')\n",
    "\n",
    "plt.title(\"Example Cov. Matrix Visualizations\")\n",
    "plt.axis((-6, 6, -6, 6))\n",
    "\n",
    "ax.set_aspect('equal')  # ensure the resulting window is square\n",
    "\n",
    "plt.show()"
   ]
  },
  {
   "cell_type": "markdown",
   "metadata": {},
   "source": [
    "Now, combine this function with your code from above to re-create the plots, but this time with the covariance matrix visualized as an ellipse too."
   ]
  },
  {
   "cell_type": "code",
   "execution_count": 135,
   "metadata": {},
   "outputs": [],
   "source": [
    "# set x_hat and x_cov to the prior values\n",
    "x_hat = x_hat_prior\n",
    "x_cov = x_cov_prior\n",
    "\n",
    "# === YOUR CODE HERE ===\n",
    "\n",
    "\n",
    "# === END OF YOUR CODE ==="
   ]
  }
 ],
 "metadata": {
  "kernelspec": {
   "display_name": "Python 3 (ipykernel)",
   "language": "python",
   "name": "python3"
  },
  "language_info": {
   "codemirror_mode": {
    "name": "ipython",
    "version": 3
   },
   "file_extension": ".py",
   "mimetype": "text/x-python",
   "name": "python",
   "nbconvert_exporter": "python",
   "pygments_lexer": "ipython3",
   "version": "3.11.4"
  }
 },
 "nbformat": 4,
 "nbformat_minor": 4
}
