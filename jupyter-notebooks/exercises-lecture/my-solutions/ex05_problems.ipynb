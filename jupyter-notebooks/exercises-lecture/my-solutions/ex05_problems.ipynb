{
 "cells": [
  {
   "cell_type": "markdown",
   "metadata": {},
   "source": [
    "# Sensor Data Fusion \n",
    "Lecturer: Prof. Baum \\\n",
    "Tutor: Dr. Kolja Thormann, M.Sc. Simon Steuernagel\\\n",
    "Semester: Summer 2023\n",
    "\n",
    "## Homework 5\n",
    "\n",
    "Consider a $1$D state $x$ and estimates $x_1$ and $x_2$. The errors of the estimates are correlated with $\\begin{bmatrix}e_1\\\\e_2\\end{bmatrix}\\sim\\mathcal{N}(\\begin{bmatrix}0\\\\0\\end{bmatrix}, \\begin{bmatrix}1 & 0.8\\sqrt{1\\cdot4}\\\\0.8\\sqrt{1\\cdot4} & 4\\end{bmatrix})$."
   ]
  },
  {
   "cell_type": "markdown",
   "metadata": {},
   "source": [
    "---\n",
    "The following tasks will have missing sections marked that you should fill out. \n",
    "\n",
    "Missing code parts are marked by\n",
    "```\n",
    "# ... code code code\n",
    "=== YOUR CODE HERE ===\n",
    "\n",
    "=== END OF YOUR CODE ===\n",
    "# ... code code code\n",
    "```\n",
    "If you are asked to implement a function, make sure to check what variable will be returned by the function and to fill it accordingly. Do not change code outside of the indicated sections.\n",
    "\n",
    "Furthermore, some questions require theoretical answers instead of python code.\n",
    "\n",
    "Such questions will have a field marked like this: \n",
    "\n",
    "=== YOUR ANSWER HERE === "
   ]
  },
  {
   "cell_type": "markdown",
   "metadata": {},
   "source": [
    "---\n",
    "### a)\n",
    "\n",
    "Write a function which visualizes the joint covariance matrix. Use it to draw the matrix along with the column space in the measurement space. Then assume the correlation coefficient $0.8$ from the description is unknown and define a covariance which ignores it. Draw that covariance and calculate and visualize the solution of the BLUE estimator."
   ]
  },
  {
   "cell_type": "code",
   "execution_count": 27,
   "metadata": {},
   "outputs": [],
   "source": [
    "import numpy as np\n",
    "import matplotlib.pyplot as plt\n",
    "from matplotlib.patches import Ellipse\n",
    "\n",
    "def draw_covariance(mean, cov, ax, color):\n",
    "    \"\"\"\n",
    "    Function that draws a covariance matrix as an ellipse.\n",
    "    \n",
    "    :param mean:  Center of the ellipse\n",
    "    :param cov:   Covariance matrix\n",
    "    :param ax:    Axis on which to plot\n",
    "    :param color: Color in which to plot the ellipse\n",
    "    \"\"\"\n",
    "    \n",
    "    # === YOUR CODE HERE ===\n",
    "\n",
    "    eig_vals, eig_vecs = np.linalg.eig(cov)\n",
    "    psi = np.arctan2(eig_vecs[1, 0], eig_vecs[0, 0])\n",
    "    ell = Ellipse(mean, 2.0*np.sqrt(eig_vals[0]), 2.0*np.sqrt(eig_vals[1]), np.rad2deg(psi), fill=False, color=color)\n",
    "    ax.add_artist(ell)\n",
    "    \n",
    "    # === END OF YOUR CODE ==="
   ]
  },
  {
   "cell_type": "code",
   "execution_count": 28,
   "metadata": {},
   "outputs": [
    {
     "name": "stderr",
     "output_type": "stream",
     "text": [
      "/tmp/ipykernel_17984/416682904.py:19: MatplotlibDeprecationWarning: Passing the angle parameter of __init__() positionally is deprecated since Matplotlib 3.6; the parameter will become keyword-only two minor releases later.\n",
      "  ell = Ellipse(mean, 2.0*np.sqrt(eig_vals[0]), 2.0*np.sqrt(eig_vals[1]), np.rad2deg(psi), fill=False, color=color)\n"
     ]
    },
    {
     "data": {
      "image/png": "[encoded data removed]",
      "text/plain": [
       "<Figure size 640x480 with 1 Axes>"
      ]
     },
     "metadata": {},
     "output_type": "display_data"
    }
   ],
   "source": [
    "x1 = 1.0\n",
    "x2 = 2.0\n",
    "\n",
    "var_x1 = 1.0\n",
    "var_x2 = 4.0\n",
    "corr_coef = 0.8\n",
    "var_x12 = corr_coef*2.0\n",
    "cov_x12 = np.array([\n",
    "    [var_x1, var_x12],\n",
    "    [var_x12, var_x2]\n",
    "])\n",
    "\n",
    "fig, ax = plt.subplots(1, 1)\n",
    "draw_covariance(np.array([x1, x2]), cov_x12, ax, 'blue')\n",
    "plt.plot([-10.0, 10.0],[-10.0, 10.0], color='black')\n",
    "plt.axis([x1-5.0, x1+5.0, x2-5.0, x2+5.0])\n",
    "ax.set_aspect('equal')\n",
    "plt.show()"
   ]
  },
  {
   "cell_type": "code",
   "execution_count": 29,
   "metadata": {},
   "outputs": [
    {
     "name": "stderr",
     "output_type": "stream",
     "text": [
      "/tmp/ipykernel_17984/416682904.py:19: MatplotlibDeprecationWarning: Passing the angle parameter of __init__() positionally is deprecated since Matplotlib 3.6; the parameter will become keyword-only two minor releases later.\n",
      "  ell = Ellipse(mean, 2.0*np.sqrt(eig_vals[0]), 2.0*np.sqrt(eig_vals[1]), np.rad2deg(psi), fill=False, color=color)\n"
     ]
    },
    {
     "name": "stdout",
     "output_type": "stream",
     "text": [
      "x_ls:  0.6666666666666665\n"
     ]
    },
    {
     "data": {
      "image/png": "[encoded data removed]",
      "text/plain": [
       "<Figure size 640x480 with 1 Axes>"
      ]
     },
     "metadata": {},
     "output_type": "display_data"
    }
   ],
   "source": [
    "# === YOUR CODE HERE ===\n",
    "w_inv = np.linalg.inv(cov_x12)\n",
    "H = np.ones(2)\n",
    "y = np.array([x1, x2])\n",
    "x_ls = (H.T @ w_inv @ y) / (H.T @ w_inv @ H)\n",
    "print(\"x_ls: \", x_ls)\n",
    "\n",
    "fig, ax = plt.subplots(1, 1)\n",
    "draw_covariance(np.array([x1, x2]), cov_x12, ax, 'blue')\n",
    "plt.plot([-10.0, 10.0],[-10.0, 10.0], color='black')\n",
    "plt.axis([x1-5.0, x1+5.0, x2-5.0, x2+5.0])\n",
    "plt.scatter(x_ls, x_ls)\n",
    "ax.set_aspect('equal')\n",
    "plt.show()\n",
    "    \n",
    "# === END OF YOUR CODE ==="
   ]
  },
  {
   "cell_type": "markdown",
   "metadata": {},
   "source": [
    "---\n",
    "### b)\n",
    "\n",
    "Now write a function which calculates a matrix which is bigger than the input matrix, determined by a parameter alpha as in the lecture. Calculate the BLUE estimate for different alpha values. Visualize the results."
   ]
  },
  {
   "cell_type": "code",
   "execution_count": 30,
   "metadata": {},
   "outputs": [],
   "source": [
    "def enclosing_ellipse(alpha, cov_x12):\n",
    "    \"\"\"\n",
    "    Function that finds an enclosing ellipse based on a parameter alpha.\n",
    "    \n",
    "    The function should return a 2x2 symmetric positive-definite matrix. \n",
    "    :param alpha:          Parameter for determining enclosing matrix\n",
    "    :param cov_x12:        Covariance matrix\n",
    "    :return: cov_x12_new - Enclosing covariance matrix cov_x12_new > cov_x12\n",
    "    \"\"\"\n",
    "    \n",
    "    # === YOUR CODE HERE ===\n",
    "\n",
    "    cov_x12_new = np.array([\n",
    "        [cov_x12[0, 0] / (0.5 - alpha), 0.0],\n",
    "        [0.0, cov_x12[1, 1] / (0.5 + alpha)],\n",
    "    ])\n",
    "    \n",
    "    return cov_x12_new    \n",
    "    \n",
    "    # === END OF YOUR CODE ==="
   ]
  },
  {
   "cell_type": "code",
   "execution_count": 31,
   "metadata": {},
   "outputs": [
    {
     "name": "stderr",
     "output_type": "stream",
     "text": [
      "/tmp/ipykernel_17984/416682904.py:19: MatplotlibDeprecationWarning: Passing the angle parameter of __init__() positionally is deprecated since Matplotlib 3.6; the parameter will become keyword-only two minor releases later.\n",
      "  ell = Ellipse(mean, 2.0*np.sqrt(eig_vals[0]), 2.0*np.sqrt(eig_vals[1]), np.rad2deg(psi), fill=False, color=color)\n"
     ]
    },
    {
     "data": {
      "image/png": "[encoded data removed]",
      "text/plain": [
       "<Figure size 640x480 with 1 Axes>"
      ]
     },
     "metadata": {},
     "output_type": "display_data"
    }
   ],
   "source": [
    "alpha = -0.4\n",
    "cov_x12_approx = enclosing_ellipse(alpha, cov_x12)\n",
    "\n",
    "fig, ax = plt.subplots(1, 1)\n",
    "draw_covariance(np.array([x1, x2]), cov_x12, ax, 'blue')\n",
    "draw_covariance(np.array([x1, x2]), cov_x12_approx, ax, 'green')\n",
    "plt.axis([x1-5.0, x1+5.0, x2-5.0, x2+5.0])\n",
    "ax.set_aspect('equal')\n",
    "plt.show()"
   ]
  },
  {
   "cell_type": "code",
   "execution_count": 32,
   "metadata": {
    "scrolled": true
   },
   "outputs": [],
   "source": [
    "# === YOUR CODE HERE ===\n",
    "\n",
    "    \n",
    " # === END OF YOUR CODE ==="
   ]
  },
  {
   "cell_type": "markdown",
   "metadata": {},
   "source": [
    "---\n",
    "### c)\n",
    "\n",
    "Consider how you could determine the value for $\\alpha$ which would produce the best estimate (considering the mean square error)."
   ]
  },
  {
   "cell_type": "code",
   "execution_count": 33,
   "metadata": {
    "tags": []
   },
   "outputs": [],
   "source": [
    "# === YOUR CODE HERE ===\n",
    "\n",
    "    \n",
    " # === END OF YOUR CODE ==="
   ]
  },
  {
   "cell_type": "code",
   "execution_count": null,
   "metadata": {},
   "outputs": [],
   "source": []
  }
 ],
 "metadata": {
  "kernelspec": {
   "display_name": "Python 3 (ipykernel)",
   "language": "python",
   "name": "python3"
  },
  "language_info": {
   "codemirror_mode": {
    "name": "ipython",
    "version": 3
   },
   "file_extension": ".py",
   "mimetype": "text/x-python",
   "name": "python",
   "nbconvert_exporter": "python",
   "pygments_lexer": "ipython3",
   "version": "3.11.4"
  }
 },
 "nbformat": 4,
 "nbformat_minor": 4
}
